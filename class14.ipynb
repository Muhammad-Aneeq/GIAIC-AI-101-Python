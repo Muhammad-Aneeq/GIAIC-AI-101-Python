{
  "nbformat": 4,
  "nbformat_minor": 0,
  "metadata": {
    "colab": {
      "provenance": [],
      "authorship_tag": "ABX9TyNVG5kSSsVBO8K26u5/52or",
      "include_colab_link": true
    },
    "kernelspec": {
      "name": "python3",
      "display_name": "Python 3"
    },
    "language_info": {
      "name": "python"
    }
  },
  "cells": [
    {
      "cell_type": "markdown",
      "metadata": {
        "id": "view-in-github",
        "colab_type": "text"
      },
      "source": [
        "<a href=\"https://colab.research.google.com/github/Muhammad-Aneeq/GIAIC-AI-101-Python/blob/main/class14.ipynb\" target=\"_parent\"><img src=\"https://colab.research.google.com/assets/colab-badge.svg\" alt=\"Open In Colab\"/></a>"
      ]
    },
    {
      "cell_type": "markdown",
      "source": [
        "OOP (Object Oriented Programing)"
      ],
      "metadata": {
        "id": "oy8x4q4Bfdha"
      }
    },
    {
      "cell_type": "code",
      "execution_count": null,
      "metadata": {
        "colab": {
          "base_uri": "https://localhost:8080/"
        },
        "id": "1-YyhX7nfZRO",
        "outputId": "39b64a40-6175-44de-be2a-a338b7e8e117"
      },
      "outputs": [
        {
          "output_type": "stream",
          "name": "stdout",
          "text": [
            "1234\n"
          ]
        }
      ],
      "source": [
        "class Person:\n",
        "    #  __init__ -> dunder / magic\n",
        "    def __init__(self,user_name, user_age, roll_no): # constructor\n",
        "      # print(\"self>>>\",self)\n",
        "      self.name = user_name\n",
        "      self.age = user_age\n",
        "      self.__roll_no  = roll_no # access modifiers (public, private, protected)\n",
        "    def get_roll_no(self): # getter function\n",
        "      return self.__roll_no # -> 1234\n",
        "\n",
        "\n",
        "# instance\n",
        "# person1 = Person(\"Abdullah\",30,1234)\n",
        "# # print(\"person1.name>>>\",person1.name)\n",
        "# # print(\"person1.age>>>\",person1.age)\n",
        "# # print(\"person1.roll_no before>>>\",person1.__roll_no)\n",
        "# # print(\"person1.roll_no after>>>\",person1.__roll_no)\n",
        "# print(person1)\n",
        "\n",
        "person2 = Person(\"Ali\", 16, 3214)\n",
        "# person2.get_roll_no()\n"
      ]
    },
    {
      "cell_type": "code",
      "source": [
        "#  Inheritence\n",
        "#  Polymorphism\n",
        "\n",
        "#Inheritence\n",
        "class Person:\n",
        "    def __init__(self,user_name, user_age):\n",
        "      self.name = user_name\n",
        "      self.age = user_age\n",
        "\n",
        "    def work(self):\n",
        "      print(\"Person is working\")\n",
        "\n",
        "person1 = Person(\"Abdullah\",30)\n",
        "person1.work()\n",
        "print(\"person1.name>>>>\",person1.name)\n",
        "\n",
        "class Male(Person):\n",
        "  def __init__(self, maleName, maleAge):\n",
        "    # Person\n",
        "    super().__init__(maleName, maleAge)\n",
        "    self.income = 100000\n",
        "\n",
        "  def work(Self):\n",
        "       print(\"Male is working\")\n",
        "\n",
        "male1 = Male(\"Ali\",20)\n",
        "male1.work()\n",
        "print(\"male1.name>>>>\",male1.name)\n"
      ],
      "metadata": {
        "colab": {
          "base_uri": "https://localhost:8080/"
        },
        "id": "vzRrjPr969iy",
        "outputId": "f3fbb2da-35b7-44ed-af44-a350f920d8c6"
      },
      "execution_count": null,
      "outputs": [
        {
          "output_type": "stream",
          "name": "stdout",
          "text": [
            "Person is working\n",
            "person1.name>>>> Abdullah\n",
            "Male is working\n",
            "male1.name>>>> Ali\n"
          ]
        }
      ]
    }
  ]
}